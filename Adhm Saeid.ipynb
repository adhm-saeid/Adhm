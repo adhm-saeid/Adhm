{
  "metadata": {
    "kernelspec": {
      "name": "python",
      "display_name": "Python (Pyodide)",
      "language": "python"
    },
    "language_info": {
      "codemirror_mode": {
        "name": "python",
        "version": 3
      },
      "file_extension": ".py",
      "mimetype": "text/x-python",
      "name": "python",
      "nbconvert_exporter": "python",
      "pygments_lexer": "ipython3",
      "version": "3.8"
    }
  },
  "nbformat_minor": 4,
  "nbformat": 4,
  "cells": [
    {
      "cell_type": "markdown",
      "source": "<H1>Data Science Tools and Ecosystem</H1>",
      "metadata": {}
    },
    {
      "cell_type": "markdown",
      "source": "<h2> Objectives:</h2>\n<ul>\n    <li>languages that Data Scientists use are</li>\n    <li>commonly used libraries used by Data Scientists</li>\n    <li>commonly used libraries used by Data Scientists</li>\n</ul>",
      "metadata": {}
    },
    {
      "cell_type": "markdown",
      "source": "In this notebook, Data Science Tools and Ecosystem are summarized.",
      "metadata": {}
    },
    {
      "cell_type": "markdown",
      "source": "Some of the popular languages that Data Scientists use are:\n<ol>\n    <li>python</li>\n    <li>SQL</li>\n    <li>R</li>\n    <li>java</li>\n</ol>    ",
      "metadata": {}
    },
    {
      "cell_type": "markdown",
      "source": "Some of the commonly used libraries used by Data Scientists include:\n<ol>\n<li>NumPy</li>\n<li>Matplotlib</li>\n<li>Pandas</li>\n<li>SciPy</li>\n<li>PyTorch</li>\n</ol>",
      "metadata": {}
    },
    {
      "cell_type": "markdown",
      "source": "|Data Science Tools|\n|------------------|\n|jupetr notepook|\n|Rstudio|\n|apache spark|\n",
      "metadata": {}
    },
    {
      "cell_type": "markdown",
      "source": "<h3>Below are a few examples of evaluating arithmetic expressions in Python</h3>",
      "metadata": {}
    },
    {
      "cell_type": "code",
      "source": "(3*4)+5\n##This a simple arithmetic expression to mutiply then add integers",
      "metadata": {
        "trusted": true
      },
      "outputs": [
        {
          "execution_count": 1,
          "output_type": "execute_result",
          "data": {
            "text/plain": "17"
          },
          "metadata": {}
        }
      ],
      "execution_count": 1
    },
    {
      "cell_type": "code",
      "source": "min=200\nh=min/60\nprint(h)",
      "metadata": {
        "trusted": true
      },
      "outputs": [
        {
          "name": "stdout",
          "text": "3.3333333333333335\n",
          "output_type": "stream"
        }
      ],
      "execution_count": 4
    },
    {
      "cell_type": "markdown",
      "source": "<h2>Author</h2>Adham MOhmamed Saeid",
      "metadata": {}
    }
  ]
}